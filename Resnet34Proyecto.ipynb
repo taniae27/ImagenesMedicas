{
  "cells": [
    {
      "cell_type": "markdown",
      "metadata": {
        "id": "view-in-github",
        "colab_type": "text"
      },
      "source": [
        "<a href=\"https://colab.research.google.com/github/taniae27/ImagenesMedicas/blob/main/Resnet34Proyecto.ipynb\" target=\"_parent\"><img src=\"https://colab.research.google.com/assets/colab-badge.svg\" alt=\"Open In Colab\"/></a>"
      ]
    },
    {
      "cell_type": "markdown",
      "source": [
        "**Clasificación de cancer en la piel**"
      ],
      "metadata": {
        "id": "8odW3ra_xGe3"
      }
    },
    {
      "cell_type": "markdown",
      "source": [
        "Primero se realiza la importación del conjunto de datos, este contiene 100,015 imagenes dermastoscopicas de tamaño 400x 600.\n",
        "\n",
        "Las imagenes se encuentran en un zip de drive por lo que se importan ingresando a la carpeta\n",
        "\n",
        "![recipes](https://raw.githubusercontent.com/taniae27/ImagenesMedicas/main/dataset-cover.png)"
      ],
      "metadata": {
        "id": "xlwXBQ4vxbYn"
      }
    },
    {
      "cell_type": "markdown",
      "source": [
        "**Preparación**"
      ],
      "metadata": {
        "id": "Mxuh7ohVz5qz"
      }
    },
    {
      "cell_type": "code",
      "execution_count": 1,
      "metadata": {
        "colab": {
          "base_uri": "https://localhost:8080/"
        },
        "id": "4TF5JqF9qW98",
        "outputId": "07ee587a-0f71-49da-d968-013d2bdc3223"
      },
      "outputs": [
        {
          "output_type": "stream",
          "name": "stdout",
          "text": [
            "Mounted at /content/drive\n"
          ]
        }
      ],
      "source": [
        "from google.colab import drive\n",
        "drive.mount('/content/drive')"
      ]
    },
    {
      "cell_type": "code",
      "execution_count": 2,
      "metadata": {
        "colab": {
          "base_uri": "https://localhost:8080/"
        },
        "id": "ttkPVbp8ql2M",
        "outputId": "002dbb0e-4167-4ecc-e96d-bb5b78a29942"
      },
      "outputs": [
        {
          "output_type": "stream",
          "name": "stdout",
          "text": [
            "done\n"
          ]
        }
      ],
      "source": [
        "from zipfile import ZipFile\n",
        "filename=\"/content/drive/My Drive/AProfundo/HAM10000.zip\"\n",
        "with ZipFile(filename,'r') as zip:\n",
        "  zip.extractall()\n",
        "  print(\"done\")"
      ]
    },
    {
      "cell_type": "markdown",
      "source": [
        "**Bibliotecas**"
      ],
      "metadata": {
        "id": "avtrz_khzyIL"
      }
    },
    {
      "cell_type": "code",
      "execution_count": 3,
      "metadata": {
        "id": "nk5pwnq-qpuY"
      },
      "outputs": [],
      "source": [
        "import pandas as pd\n",
        "import numpy as np\n",
        "import os\n",
        "import tensorflow as tf\n",
        "import cv2\n",
        "from keras import backend as K\n",
        "from keras.layers import Layer,InputSpec\n",
        "import keras.layers as kl\n",
        "from glob import glob\n",
        "from sklearn.metrics import roc_curve, auc\n",
        "from keras.preprocessing import image\n",
        "from tensorflow.keras.models import Sequential\n",
        "from sklearn.metrics import roc_auc_score\n",
        "from tensorflow.keras import callbacks \n",
        "from tensorflow.keras.callbacks import ModelCheckpoint,EarlyStopping\n",
        "from  matplotlib import pyplot as plt\n",
        "from tensorflow.keras import Model\n",
        "from tensorflow.keras.layers import concatenate,Dense, Conv2D, MaxPooling2D, Flatten,Input,Activation,add,AveragePooling2D,GlobalAveragePooling2D,BatchNormalization,Dropout\n",
        "%matplotlib inline\n",
        "import shutil\n",
        "from sklearn.metrics import  precision_score, recall_score, accuracy_score,classification_report ,confusion_matrix\n",
        "from tensorflow.python.platform import build_info as tf_build_info\n",
        "from tensorflow.keras.preprocessing.image import ImageDataGenerator\n",
        "from sklearn.model_selection import train_test_split\n",
        "\n",
        "from PIL import ImageFile\n",
        "ImageFile.LOAD_TRUNCATED_IMAGES = True"
      ]
    },
    {
      "cell_type": "markdown",
      "source": [
        "**Datos**"
      ],
      "metadata": {
        "id": "cQmKICoz0PsS"
      }
    },
    {
      "cell_type": "code",
      "execution_count": 4,
      "metadata": {
        "id": "PEcUhkSsqp2A"
      },
      "outputs": [],
      "source": [
        "data_pd = pd.read_csv('/content/drive/MyDrive/AProfundo/HAM10000_metadata.csv')\n"
      ]
    },
    {
      "cell_type": "code",
      "execution_count": 5,
      "metadata": {
        "id": "oBpegzhnqp5x"
      },
      "outputs": [],
      "source": [
        "train_dir = os.path.join('HAM10000', 'train_dir')\n",
        "test_dir = os.path.join('HAM10000', 'test_dir')"
      ]
    },
    {
      "cell_type": "code",
      "execution_count": 6,
      "metadata": {
        "id": "TgiHkZuNqp8h"
      },
      "outputs": [],
      "source": [
        "df_count = data_pd.groupby('lesion_id').count()\n"
      ]
    },
    {
      "cell_type": "code",
      "execution_count": 7,
      "metadata": {
        "id": "VNKbw-1dq435"
      },
      "outputs": [],
      "source": [
        "df_count = df_count[df_count['dx'] == 1]\n",
        "df_count.reset_index(inplace=True)"
      ]
    },
    {
      "cell_type": "code",
      "execution_count": 8,
      "metadata": {
        "id": "S6vFeaK7q5Ap"
      },
      "outputs": [],
      "source": [
        "def duplicates(x):\n",
        "    unique = set(df_count['lesion_id'])\n",
        "    if x in unique:\n",
        "        return 'no' \n",
        "    else:\n",
        "        return 'duplicates'"
      ]
    },
    {
      "cell_type": "code",
      "execution_count": 9,
      "metadata": {
        "colab": {
          "base_uri": "https://localhost:8080/",
          "height": 206
        },
        "id": "8n-tD0VOq5EJ",
        "outputId": "946f6a2e-c50d-4b71-f615-5d1929627a6e"
      },
      "outputs": [
        {
          "output_type": "execute_result",
          "data": {
            "text/plain": [
              "     lesion_id      image_id   dx dx_type   age   sex localization  \\\n",
              "0  HAM_0000118  ISIC_0027419  bkl   histo  80.0  male        scalp   \n",
              "1  HAM_0000118  ISIC_0025030  bkl   histo  80.0  male        scalp   \n",
              "2  HAM_0002730  ISIC_0026769  bkl   histo  80.0  male        scalp   \n",
              "3  HAM_0002730  ISIC_0025661  bkl   histo  80.0  male        scalp   \n",
              "4  HAM_0001466  ISIC_0031633  bkl   histo  75.0  male          ear   \n",
              "\n",
              "  is_duplicate  \n",
              "0   duplicates  \n",
              "1   duplicates  \n",
              "2   duplicates  \n",
              "3   duplicates  \n",
              "4   duplicates  "
            ],
            "text/html": [
              "\n",
              "  <div id=\"df-2ee70d34-b017-459b-bb9f-6538396d39eb\">\n",
              "    <div class=\"colab-df-container\">\n",
              "      <div>\n",
              "<style scoped>\n",
              "    .dataframe tbody tr th:only-of-type {\n",
              "        vertical-align: middle;\n",
              "    }\n",
              "\n",
              "    .dataframe tbody tr th {\n",
              "        vertical-align: top;\n",
              "    }\n",
              "\n",
              "    .dataframe thead th {\n",
              "        text-align: right;\n",
              "    }\n",
              "</style>\n",
              "<table border=\"1\" class=\"dataframe\">\n",
              "  <thead>\n",
              "    <tr style=\"text-align: right;\">\n",
              "      <th></th>\n",
              "      <th>lesion_id</th>\n",
              "      <th>image_id</th>\n",
              "      <th>dx</th>\n",
              "      <th>dx_type</th>\n",
              "      <th>age</th>\n",
              "      <th>sex</th>\n",
              "      <th>localization</th>\n",
              "      <th>is_duplicate</th>\n",
              "    </tr>\n",
              "  </thead>\n",
              "  <tbody>\n",
              "    <tr>\n",
              "      <th>0</th>\n",
              "      <td>HAM_0000118</td>\n",
              "      <td>ISIC_0027419</td>\n",
              "      <td>bkl</td>\n",
              "      <td>histo</td>\n",
              "      <td>80.0</td>\n",
              "      <td>male</td>\n",
              "      <td>scalp</td>\n",
              "      <td>duplicates</td>\n",
              "    </tr>\n",
              "    <tr>\n",
              "      <th>1</th>\n",
              "      <td>HAM_0000118</td>\n",
              "      <td>ISIC_0025030</td>\n",
              "      <td>bkl</td>\n",
              "      <td>histo</td>\n",
              "      <td>80.0</td>\n",
              "      <td>male</td>\n",
              "      <td>scalp</td>\n",
              "      <td>duplicates</td>\n",
              "    </tr>\n",
              "    <tr>\n",
              "      <th>2</th>\n",
              "      <td>HAM_0002730</td>\n",
              "      <td>ISIC_0026769</td>\n",
              "      <td>bkl</td>\n",
              "      <td>histo</td>\n",
              "      <td>80.0</td>\n",
              "      <td>male</td>\n",
              "      <td>scalp</td>\n",
              "      <td>duplicates</td>\n",
              "    </tr>\n",
              "    <tr>\n",
              "      <th>3</th>\n",
              "      <td>HAM_0002730</td>\n",
              "      <td>ISIC_0025661</td>\n",
              "      <td>bkl</td>\n",
              "      <td>histo</td>\n",
              "      <td>80.0</td>\n",
              "      <td>male</td>\n",
              "      <td>scalp</td>\n",
              "      <td>duplicates</td>\n",
              "    </tr>\n",
              "    <tr>\n",
              "      <th>4</th>\n",
              "      <td>HAM_0001466</td>\n",
              "      <td>ISIC_0031633</td>\n",
              "      <td>bkl</td>\n",
              "      <td>histo</td>\n",
              "      <td>75.0</td>\n",
              "      <td>male</td>\n",
              "      <td>ear</td>\n",
              "      <td>duplicates</td>\n",
              "    </tr>\n",
              "  </tbody>\n",
              "</table>\n",
              "</div>\n",
              "      <button class=\"colab-df-convert\" onclick=\"convertToInteractive('df-2ee70d34-b017-459b-bb9f-6538396d39eb')\"\n",
              "              title=\"Convert this dataframe to an interactive table.\"\n",
              "              style=\"display:none;\">\n",
              "        \n",
              "  <svg xmlns=\"http://www.w3.org/2000/svg\" height=\"24px\"viewBox=\"0 0 24 24\"\n",
              "       width=\"24px\">\n",
              "    <path d=\"M0 0h24v24H0V0z\" fill=\"none\"/>\n",
              "    <path d=\"M18.56 5.44l.94 2.06.94-2.06 2.06-.94-2.06-.94-.94-2.06-.94 2.06-2.06.94zm-11 1L8.5 8.5l.94-2.06 2.06-.94-2.06-.94L8.5 2.5l-.94 2.06-2.06.94zm10 10l.94 2.06.94-2.06 2.06-.94-2.06-.94-.94-2.06-.94 2.06-2.06.94z\"/><path d=\"M17.41 7.96l-1.37-1.37c-.4-.4-.92-.59-1.43-.59-.52 0-1.04.2-1.43.59L10.3 9.45l-7.72 7.72c-.78.78-.78 2.05 0 2.83L4 21.41c.39.39.9.59 1.41.59.51 0 1.02-.2 1.41-.59l7.78-7.78 2.81-2.81c.8-.78.8-2.07 0-2.86zM5.41 20L4 18.59l7.72-7.72 1.47 1.35L5.41 20z\"/>\n",
              "  </svg>\n",
              "      </button>\n",
              "      \n",
              "  <style>\n",
              "    .colab-df-container {\n",
              "      display:flex;\n",
              "      flex-wrap:wrap;\n",
              "      gap: 12px;\n",
              "    }\n",
              "\n",
              "    .colab-df-convert {\n",
              "      background-color: #E8F0FE;\n",
              "      border: none;\n",
              "      border-radius: 50%;\n",
              "      cursor: pointer;\n",
              "      display: none;\n",
              "      fill: #1967D2;\n",
              "      height: 32px;\n",
              "      padding: 0 0 0 0;\n",
              "      width: 32px;\n",
              "    }\n",
              "\n",
              "    .colab-df-convert:hover {\n",
              "      background-color: #E2EBFA;\n",
              "      box-shadow: 0px 1px 2px rgba(60, 64, 67, 0.3), 0px 1px 3px 1px rgba(60, 64, 67, 0.15);\n",
              "      fill: #174EA6;\n",
              "    }\n",
              "\n",
              "    [theme=dark] .colab-df-convert {\n",
              "      background-color: #3B4455;\n",
              "      fill: #D2E3FC;\n",
              "    }\n",
              "\n",
              "    [theme=dark] .colab-df-convert:hover {\n",
              "      background-color: #434B5C;\n",
              "      box-shadow: 0px 1px 3px 1px rgba(0, 0, 0, 0.15);\n",
              "      filter: drop-shadow(0px 1px 2px rgba(0, 0, 0, 0.3));\n",
              "      fill: #FFFFFF;\n",
              "    }\n",
              "  </style>\n",
              "\n",
              "      <script>\n",
              "        const buttonEl =\n",
              "          document.querySelector('#df-2ee70d34-b017-459b-bb9f-6538396d39eb button.colab-df-convert');\n",
              "        buttonEl.style.display =\n",
              "          google.colab.kernel.accessAllowed ? 'block' : 'none';\n",
              "\n",
              "        async function convertToInteractive(key) {\n",
              "          const element = document.querySelector('#df-2ee70d34-b017-459b-bb9f-6538396d39eb');\n",
              "          const dataTable =\n",
              "            await google.colab.kernel.invokeFunction('convertToInteractive',\n",
              "                                                     [key], {});\n",
              "          if (!dataTable) return;\n",
              "\n",
              "          const docLinkHtml = 'Like what you see? Visit the ' +\n",
              "            '<a target=\"_blank\" href=https://colab.research.google.com/notebooks/data_table.ipynb>data table notebook</a>'\n",
              "            + ' to learn more about interactive tables.';\n",
              "          element.innerHTML = '';\n",
              "          dataTable['output_type'] = 'display_data';\n",
              "          await google.colab.output.renderOutput(dataTable, element);\n",
              "          const docLink = document.createElement('div');\n",
              "          docLink.innerHTML = docLinkHtml;\n",
              "          element.appendChild(docLink);\n",
              "        }\n",
              "      </script>\n",
              "    </div>\n",
              "  </div>\n",
              "  "
            ]
          },
          "metadata": {},
          "execution_count": 9
        }
      ],
      "source": [
        "data_pd['is_duplicate'] = data_pd['lesion_id'].apply(duplicates)\n",
        "data_pd.head()"
      ]
    },
    {
      "cell_type": "code",
      "execution_count": 10,
      "metadata": {
        "id": "8a4ChkRNq_UV"
      },
      "outputs": [],
      "source": [
        "df_count = data_pd[data_pd['is_duplicate'] == 'no']"
      ]
    },
    {
      "cell_type": "markdown",
      "source": [
        "**Conjunto de prueba y de entremiento 85% y 15%**"
      ],
      "metadata": {
        "id": "JXHKq0qH3Dwb"
      }
    },
    {
      "cell_type": "code",
      "execution_count": 11,
      "metadata": {
        "id": "SsoEo5O7q_XQ"
      },
      "outputs": [],
      "source": [
        "train, test_df = train_test_split(df_count, test_size=0.15, stratify=df_count['dx'])"
      ]
    },
    {
      "cell_type": "code",
      "execution_count": 12,
      "metadata": {
        "id": "fFH9X1kVq_aB"
      },
      "outputs": [],
      "source": [
        "def identify_trainOrtest(x):\n",
        "    test_data = set(test_df['image_id'])\n",
        "    if str(x) in test_data:\n",
        "        return 'test'\n",
        "    else:\n",
        "        return 'train'\n",
        "\n",
        "data_pd['train_test_split'] = data_pd['image_id'].apply(identify_trainOrtest)\n",
        "train_df = data_pd[data_pd['train_test_split'] == 'train']\n"
      ]
    },
    {
      "cell_type": "code",
      "source": [
        "train_df.head()"
      ],
      "metadata": {
        "id": "Dh7cI2OL3gYL",
        "colab": {
          "base_uri": "https://localhost:8080/",
          "height": 206
        },
        "outputId": "837eab79-f6dc-4bab-e322-e7f7c2be6f04"
      },
      "execution_count": 13,
      "outputs": [
        {
          "output_type": "execute_result",
          "data": {
            "text/plain": [
              "     lesion_id      image_id   dx dx_type   age   sex localization  \\\n",
              "0  HAM_0000118  ISIC_0027419  bkl   histo  80.0  male        scalp   \n",
              "1  HAM_0000118  ISIC_0025030  bkl   histo  80.0  male        scalp   \n",
              "2  HAM_0002730  ISIC_0026769  bkl   histo  80.0  male        scalp   \n",
              "3  HAM_0002730  ISIC_0025661  bkl   histo  80.0  male        scalp   \n",
              "4  HAM_0001466  ISIC_0031633  bkl   histo  75.0  male          ear   \n",
              "\n",
              "  is_duplicate train_test_split  \n",
              "0   duplicates            train  \n",
              "1   duplicates            train  \n",
              "2   duplicates            train  \n",
              "3   duplicates            train  \n",
              "4   duplicates            train  "
            ],
            "text/html": [
              "\n",
              "  <div id=\"df-9a6e3e79-b4d1-431c-87b5-aeabc6c1dc0b\">\n",
              "    <div class=\"colab-df-container\">\n",
              "      <div>\n",
              "<style scoped>\n",
              "    .dataframe tbody tr th:only-of-type {\n",
              "        vertical-align: middle;\n",
              "    }\n",
              "\n",
              "    .dataframe tbody tr th {\n",
              "        vertical-align: top;\n",
              "    }\n",
              "\n",
              "    .dataframe thead th {\n",
              "        text-align: right;\n",
              "    }\n",
              "</style>\n",
              "<table border=\"1\" class=\"dataframe\">\n",
              "  <thead>\n",
              "    <tr style=\"text-align: right;\">\n",
              "      <th></th>\n",
              "      <th>lesion_id</th>\n",
              "      <th>image_id</th>\n",
              "      <th>dx</th>\n",
              "      <th>dx_type</th>\n",
              "      <th>age</th>\n",
              "      <th>sex</th>\n",
              "      <th>localization</th>\n",
              "      <th>is_duplicate</th>\n",
              "      <th>train_test_split</th>\n",
              "    </tr>\n",
              "  </thead>\n",
              "  <tbody>\n",
              "    <tr>\n",
              "      <th>0</th>\n",
              "      <td>HAM_0000118</td>\n",
              "      <td>ISIC_0027419</td>\n",
              "      <td>bkl</td>\n",
              "      <td>histo</td>\n",
              "      <td>80.0</td>\n",
              "      <td>male</td>\n",
              "      <td>scalp</td>\n",
              "      <td>duplicates</td>\n",
              "      <td>train</td>\n",
              "    </tr>\n",
              "    <tr>\n",
              "      <th>1</th>\n",
              "      <td>HAM_0000118</td>\n",
              "      <td>ISIC_0025030</td>\n",
              "      <td>bkl</td>\n",
              "      <td>histo</td>\n",
              "      <td>80.0</td>\n",
              "      <td>male</td>\n",
              "      <td>scalp</td>\n",
              "      <td>duplicates</td>\n",
              "      <td>train</td>\n",
              "    </tr>\n",
              "    <tr>\n",
              "      <th>2</th>\n",
              "      <td>HAM_0002730</td>\n",
              "      <td>ISIC_0026769</td>\n",
              "      <td>bkl</td>\n",
              "      <td>histo</td>\n",
              "      <td>80.0</td>\n",
              "      <td>male</td>\n",
              "      <td>scalp</td>\n",
              "      <td>duplicates</td>\n",
              "      <td>train</td>\n",
              "    </tr>\n",
              "    <tr>\n",
              "      <th>3</th>\n",
              "      <td>HAM_0002730</td>\n",
              "      <td>ISIC_0025661</td>\n",
              "      <td>bkl</td>\n",
              "      <td>histo</td>\n",
              "      <td>80.0</td>\n",
              "      <td>male</td>\n",
              "      <td>scalp</td>\n",
              "      <td>duplicates</td>\n",
              "      <td>train</td>\n",
              "    </tr>\n",
              "    <tr>\n",
              "      <th>4</th>\n",
              "      <td>HAM_0001466</td>\n",
              "      <td>ISIC_0031633</td>\n",
              "      <td>bkl</td>\n",
              "      <td>histo</td>\n",
              "      <td>75.0</td>\n",
              "      <td>male</td>\n",
              "      <td>ear</td>\n",
              "      <td>duplicates</td>\n",
              "      <td>train</td>\n",
              "    </tr>\n",
              "  </tbody>\n",
              "</table>\n",
              "</div>\n",
              "      <button class=\"colab-df-convert\" onclick=\"convertToInteractive('df-9a6e3e79-b4d1-431c-87b5-aeabc6c1dc0b')\"\n",
              "              title=\"Convert this dataframe to an interactive table.\"\n",
              "              style=\"display:none;\">\n",
              "        \n",
              "  <svg xmlns=\"http://www.w3.org/2000/svg\" height=\"24px\"viewBox=\"0 0 24 24\"\n",
              "       width=\"24px\">\n",
              "    <path d=\"M0 0h24v24H0V0z\" fill=\"none\"/>\n",
              "    <path d=\"M18.56 5.44l.94 2.06.94-2.06 2.06-.94-2.06-.94-.94-2.06-.94 2.06-2.06.94zm-11 1L8.5 8.5l.94-2.06 2.06-.94-2.06-.94L8.5 2.5l-.94 2.06-2.06.94zm10 10l.94 2.06.94-2.06 2.06-.94-2.06-.94-.94-2.06-.94 2.06-2.06.94z\"/><path d=\"M17.41 7.96l-1.37-1.37c-.4-.4-.92-.59-1.43-.59-.52 0-1.04.2-1.43.59L10.3 9.45l-7.72 7.72c-.78.78-.78 2.05 0 2.83L4 21.41c.39.39.9.59 1.41.59.51 0 1.02-.2 1.41-.59l7.78-7.78 2.81-2.81c.8-.78.8-2.07 0-2.86zM5.41 20L4 18.59l7.72-7.72 1.47 1.35L5.41 20z\"/>\n",
              "  </svg>\n",
              "      </button>\n",
              "      \n",
              "  <style>\n",
              "    .colab-df-container {\n",
              "      display:flex;\n",
              "      flex-wrap:wrap;\n",
              "      gap: 12px;\n",
              "    }\n",
              "\n",
              "    .colab-df-convert {\n",
              "      background-color: #E8F0FE;\n",
              "      border: none;\n",
              "      border-radius: 50%;\n",
              "      cursor: pointer;\n",
              "      display: none;\n",
              "      fill: #1967D2;\n",
              "      height: 32px;\n",
              "      padding: 0 0 0 0;\n",
              "      width: 32px;\n",
              "    }\n",
              "\n",
              "    .colab-df-convert:hover {\n",
              "      background-color: #E2EBFA;\n",
              "      box-shadow: 0px 1px 2px rgba(60, 64, 67, 0.3), 0px 1px 3px 1px rgba(60, 64, 67, 0.15);\n",
              "      fill: #174EA6;\n",
              "    }\n",
              "\n",
              "    [theme=dark] .colab-df-convert {\n",
              "      background-color: #3B4455;\n",
              "      fill: #D2E3FC;\n",
              "    }\n",
              "\n",
              "    [theme=dark] .colab-df-convert:hover {\n",
              "      background-color: #434B5C;\n",
              "      box-shadow: 0px 1px 3px 1px rgba(0, 0, 0, 0.15);\n",
              "      filter: drop-shadow(0px 1px 2px rgba(0, 0, 0, 0.3));\n",
              "      fill: #FFFFFF;\n",
              "    }\n",
              "  </style>\n",
              "\n",
              "      <script>\n",
              "        const buttonEl =\n",
              "          document.querySelector('#df-9a6e3e79-b4d1-431c-87b5-aeabc6c1dc0b button.colab-df-convert');\n",
              "        buttonEl.style.display =\n",
              "          google.colab.kernel.accessAllowed ? 'block' : 'none';\n",
              "\n",
              "        async function convertToInteractive(key) {\n",
              "          const element = document.querySelector('#df-9a6e3e79-b4d1-431c-87b5-aeabc6c1dc0b');\n",
              "          const dataTable =\n",
              "            await google.colab.kernel.invokeFunction('convertToInteractive',\n",
              "                                                     [key], {});\n",
              "          if (!dataTable) return;\n",
              "\n",
              "          const docLinkHtml = 'Like what you see? Visit the ' +\n",
              "            '<a target=\"_blank\" href=https://colab.research.google.com/notebooks/data_table.ipynb>data table notebook</a>'\n",
              "            + ' to learn more about interactive tables.';\n",
              "          element.innerHTML = '';\n",
              "          dataTable['output_type'] = 'display_data';\n",
              "          await google.colab.output.renderOutput(dataTable, element);\n",
              "          const docLink = document.createElement('div');\n",
              "          docLink.innerHTML = docLinkHtml;\n",
              "          element.appendChild(docLink);\n",
              "        }\n",
              "      </script>\n",
              "    </div>\n",
              "  </div>\n",
              "  "
            ]
          },
          "metadata": {},
          "execution_count": 13
        }
      ]
    },
    {
      "cell_type": "code",
      "execution_count": 14,
      "metadata": {
        "colab": {
          "base_uri": "https://localhost:8080/",
          "height": 206
        },
        "id": "ujZo6wiPq_h9",
        "outputId": "1416f0e5-a9d5-4cd4-f066-525ec898b699"
      },
      "outputs": [
        {
          "output_type": "execute_result",
          "data": {
            "text/plain": [
              "        lesion_id      image_id     dx    dx_type   age     sex  \\\n",
              "9809  HAM_0002734  ISIC_0028190  akiec      histo  45.0    male   \n",
              "5258  HAM_0002941  ISIC_0031028     nv  follow_up  45.0    male   \n",
              "3966  HAM_0004634  ISIC_0032454     nv  follow_up  65.0    male   \n",
              "4486  HAM_0003454  ISIC_0031764     nv  follow_up  55.0  female   \n",
              "8768  HAM_0003911  ISIC_0030645     nv      histo  35.0  female   \n",
              "\n",
              "         localization is_duplicate  \n",
              "9809             face           no  \n",
              "5258  lower extremity           no  \n",
              "3966            trunk           no  \n",
              "4486  lower extremity           no  \n",
              "8768  upper extremity           no  "
            ],
            "text/html": [
              "\n",
              "  <div id=\"df-cbbbe8fe-1f32-4d71-9321-739c117978a8\">\n",
              "    <div class=\"colab-df-container\">\n",
              "      <div>\n",
              "<style scoped>\n",
              "    .dataframe tbody tr th:only-of-type {\n",
              "        vertical-align: middle;\n",
              "    }\n",
              "\n",
              "    .dataframe tbody tr th {\n",
              "        vertical-align: top;\n",
              "    }\n",
              "\n",
              "    .dataframe thead th {\n",
              "        text-align: right;\n",
              "    }\n",
              "</style>\n",
              "<table border=\"1\" class=\"dataframe\">\n",
              "  <thead>\n",
              "    <tr style=\"text-align: right;\">\n",
              "      <th></th>\n",
              "      <th>lesion_id</th>\n",
              "      <th>image_id</th>\n",
              "      <th>dx</th>\n",
              "      <th>dx_type</th>\n",
              "      <th>age</th>\n",
              "      <th>sex</th>\n",
              "      <th>localization</th>\n",
              "      <th>is_duplicate</th>\n",
              "    </tr>\n",
              "  </thead>\n",
              "  <tbody>\n",
              "    <tr>\n",
              "      <th>9809</th>\n",
              "      <td>HAM_0002734</td>\n",
              "      <td>ISIC_0028190</td>\n",
              "      <td>akiec</td>\n",
              "      <td>histo</td>\n",
              "      <td>45.0</td>\n",
              "      <td>male</td>\n",
              "      <td>face</td>\n",
              "      <td>no</td>\n",
              "    </tr>\n",
              "    <tr>\n",
              "      <th>5258</th>\n",
              "      <td>HAM_0002941</td>\n",
              "      <td>ISIC_0031028</td>\n",
              "      <td>nv</td>\n",
              "      <td>follow_up</td>\n",
              "      <td>45.0</td>\n",
              "      <td>male</td>\n",
              "      <td>lower extremity</td>\n",
              "      <td>no</td>\n",
              "    </tr>\n",
              "    <tr>\n",
              "      <th>3966</th>\n",
              "      <td>HAM_0004634</td>\n",
              "      <td>ISIC_0032454</td>\n",
              "      <td>nv</td>\n",
              "      <td>follow_up</td>\n",
              "      <td>65.0</td>\n",
              "      <td>male</td>\n",
              "      <td>trunk</td>\n",
              "      <td>no</td>\n",
              "    </tr>\n",
              "    <tr>\n",
              "      <th>4486</th>\n",
              "      <td>HAM_0003454</td>\n",
              "      <td>ISIC_0031764</td>\n",
              "      <td>nv</td>\n",
              "      <td>follow_up</td>\n",
              "      <td>55.0</td>\n",
              "      <td>female</td>\n",
              "      <td>lower extremity</td>\n",
              "      <td>no</td>\n",
              "    </tr>\n",
              "    <tr>\n",
              "      <th>8768</th>\n",
              "      <td>HAM_0003911</td>\n",
              "      <td>ISIC_0030645</td>\n",
              "      <td>nv</td>\n",
              "      <td>histo</td>\n",
              "      <td>35.0</td>\n",
              "      <td>female</td>\n",
              "      <td>upper extremity</td>\n",
              "      <td>no</td>\n",
              "    </tr>\n",
              "  </tbody>\n",
              "</table>\n",
              "</div>\n",
              "      <button class=\"colab-df-convert\" onclick=\"convertToInteractive('df-cbbbe8fe-1f32-4d71-9321-739c117978a8')\"\n",
              "              title=\"Convert this dataframe to an interactive table.\"\n",
              "              style=\"display:none;\">\n",
              "        \n",
              "  <svg xmlns=\"http://www.w3.org/2000/svg\" height=\"24px\"viewBox=\"0 0 24 24\"\n",
              "       width=\"24px\">\n",
              "    <path d=\"M0 0h24v24H0V0z\" fill=\"none\"/>\n",
              "    <path d=\"M18.56 5.44l.94 2.06.94-2.06 2.06-.94-2.06-.94-.94-2.06-.94 2.06-2.06.94zm-11 1L8.5 8.5l.94-2.06 2.06-.94-2.06-.94L8.5 2.5l-.94 2.06-2.06.94zm10 10l.94 2.06.94-2.06 2.06-.94-2.06-.94-.94-2.06-.94 2.06-2.06.94z\"/><path d=\"M17.41 7.96l-1.37-1.37c-.4-.4-.92-.59-1.43-.59-.52 0-1.04.2-1.43.59L10.3 9.45l-7.72 7.72c-.78.78-.78 2.05 0 2.83L4 21.41c.39.39.9.59 1.41.59.51 0 1.02-.2 1.41-.59l7.78-7.78 2.81-2.81c.8-.78.8-2.07 0-2.86zM5.41 20L4 18.59l7.72-7.72 1.47 1.35L5.41 20z\"/>\n",
              "  </svg>\n",
              "      </button>\n",
              "      \n",
              "  <style>\n",
              "    .colab-df-container {\n",
              "      display:flex;\n",
              "      flex-wrap:wrap;\n",
              "      gap: 12px;\n",
              "    }\n",
              "\n",
              "    .colab-df-convert {\n",
              "      background-color: #E8F0FE;\n",
              "      border: none;\n",
              "      border-radius: 50%;\n",
              "      cursor: pointer;\n",
              "      display: none;\n",
              "      fill: #1967D2;\n",
              "      height: 32px;\n",
              "      padding: 0 0 0 0;\n",
              "      width: 32px;\n",
              "    }\n",
              "\n",
              "    .colab-df-convert:hover {\n",
              "      background-color: #E2EBFA;\n",
              "      box-shadow: 0px 1px 2px rgba(60, 64, 67, 0.3), 0px 1px 3px 1px rgba(60, 64, 67, 0.15);\n",
              "      fill: #174EA6;\n",
              "    }\n",
              "\n",
              "    [theme=dark] .colab-df-convert {\n",
              "      background-color: #3B4455;\n",
              "      fill: #D2E3FC;\n",
              "    }\n",
              "\n",
              "    [theme=dark] .colab-df-convert:hover {\n",
              "      background-color: #434B5C;\n",
              "      box-shadow: 0px 1px 3px 1px rgba(0, 0, 0, 0.15);\n",
              "      filter: drop-shadow(0px 1px 2px rgba(0, 0, 0, 0.3));\n",
              "      fill: #FFFFFF;\n",
              "    }\n",
              "  </style>\n",
              "\n",
              "      <script>\n",
              "        const buttonEl =\n",
              "          document.querySelector('#df-cbbbe8fe-1f32-4d71-9321-739c117978a8 button.colab-df-convert');\n",
              "        buttonEl.style.display =\n",
              "          google.colab.kernel.accessAllowed ? 'block' : 'none';\n",
              "\n",
              "        async function convertToInteractive(key) {\n",
              "          const element = document.querySelector('#df-cbbbe8fe-1f32-4d71-9321-739c117978a8');\n",
              "          const dataTable =\n",
              "            await google.colab.kernel.invokeFunction('convertToInteractive',\n",
              "                                                     [key], {});\n",
              "          if (!dataTable) return;\n",
              "\n",
              "          const docLinkHtml = 'Like what you see? Visit the ' +\n",
              "            '<a target=\"_blank\" href=https://colab.research.google.com/notebooks/data_table.ipynb>data table notebook</a>'\n",
              "            + ' to learn more about interactive tables.';\n",
              "          element.innerHTML = '';\n",
              "          dataTable['output_type'] = 'display_data';\n",
              "          await google.colab.output.renderOutput(dataTable, element);\n",
              "          const docLink = document.createElement('div');\n",
              "          docLink.innerHTML = docLinkHtml;\n",
              "          element.appendChild(docLink);\n",
              "        }\n",
              "      </script>\n",
              "    </div>\n",
              "  </div>\n",
              "  "
            ]
          },
          "metadata": {},
          "execution_count": 14
        }
      ],
      "source": [
        "test_df.head()"
      ]
    },
    {
      "cell_type": "code",
      "execution_count": 15,
      "metadata": {
        "id": "sY1V0vXtrIKg",
        "colab": {
          "base_uri": "https://localhost:8080/"
        },
        "outputId": "405e853b-befe-4044-a247-dd98a229a74d"
      },
      "outputs": [
        {
          "output_type": "execute_result",
          "data": {
            "text/plain": [
              "9187"
            ]
          },
          "metadata": {},
          "execution_count": 15
        }
      ],
      "source": [
        "train_list = list(train_df['image_id'])\n",
        "test_list = list(test_df['image_id'])\n",
        "len(test_list)\n",
        "len(train_list)"
      ]
    },
    {
      "cell_type": "code",
      "execution_count": 16,
      "metadata": {
        "id": "jzY2cuSirLPY"
      },
      "outputs": [],
      "source": [
        "data_pd.set_index('image_id', inplace=True)"
      ]
    },
    {
      "cell_type": "code",
      "execution_count": 17,
      "metadata": {
        "id": "2FqRi1DvrSdA"
      },
      "outputs": [],
      "source": [
        "os.mkdir(train_dir)\n",
        "os.mkdir(test_dir)"
      ]
    },
    {
      "cell_type": "markdown",
      "source": [
        "**Se consideran 7 categorias diagnosticas**\n",
        "\n",
        "Las categorias son: \n",
        "\n",
        "\n",
        "1.   Melanoma (MEL)\n",
        "2.   Nevos melanocíticos (NV) \n",
        "3.   Carcinoma de células basales (BCC)\n",
        "4.   Queratosis actínica , y Carcinoma intraepitelial (AKIEC)\n",
        "5.   Queratosis benigna (BKL)\n",
        "6.   Dermatofibroma (DF)\n",
        "7.   Lesiones vasculares (VASC)\n",
        "\n",
        "\n",
        "\n",
        "![recipes](https://raw.githubusercontent.com/taniae27/ImagenesMedicas/main/datos.JPG)\n"
      ],
      "metadata": {
        "id": "qUcX9I2BqvMx"
      }
    },
    {
      "cell_type": "code",
      "execution_count": 18,
      "metadata": {
        "id": "7BykPyBRrSgg"
      },
      "outputs": [],
      "source": [
        "targetnames = ['akiec', 'bcc', 'bkl', 'df', 'mel', 'nv', 'vasc']\n",
        "for i in targetnames:\n",
        "  directory1=train_dir+'/'+i\n",
        "  directory2=test_dir+'/'+i\n",
        "  os.mkdir(directory1)\n",
        "  os.mkdir(directory2)"
      ]
    },
    {
      "cell_type": "code",
      "execution_count": 19,
      "metadata": {
        "id": "5wRkFB19rSqA"
      },
      "outputs": [],
      "source": [
        "for image in train_list:\n",
        "    file_name = image+'.jpg'\n",
        "    label = data_pd.loc[image, 'dx']\n",
        "\n",
        "    source = os.path.join('HAM10000', file_name)\n",
        "    target = os.path.join(train_dir, label, file_name)\n",
        "    shutil.copyfile(source, target)"
      ]
    },
    {
      "cell_type": "code",
      "execution_count": 20,
      "metadata": {
        "id": "0iasoNDvrnbq"
      },
      "outputs": [],
      "source": [
        "for image in test_list:\n",
        "\n",
        "    file_name = image+'.jpg'\n",
        "    label = data_pd.loc[image, 'dx']\n",
        " \n",
        "    source = os.path.join('HAM10000', file_name)\n",
        "\n",
        "    target = os.path.join(test_dir, label, file_name)\n",
        "\n",
        "    shutil.copyfile(source, target)"
      ]
    },
    {
      "cell_type": "markdown",
      "source": [
        "**Para cada categoria se realiza un aumento de imagenes**"
      ],
      "metadata": {
        "id": "Hgmhc0u69MM2"
      }
    },
    {
      "cell_type": "code",
      "execution_count": 21,
      "metadata": {
        "colab": {
          "base_uri": "https://localhost:8080/"
        },
        "id": "SxPh9y1irqp1",
        "outputId": "f13142e2-aa4a-4983-97ff-a6643fa62514"
      },
      "outputs": [
        {
          "output_type": "stream",
          "name": "stdout",
          "text": [
            "Found 1033 images belonging to 1 classes.\n",
            "Found 304 images belonging to 1 classes.\n",
            "Found 1079 images belonging to 1 classes.\n",
            "Found 488 images belonging to 1 classes.\n",
            "Found 109 images belonging to 1 classes.\n",
            "Found 132 images belonging to 1 classes.\n",
            "Found 6042 images belonging to 1 classes.\n"
          ]
        }
      ],
      "source": [
        "targetnames = ['bkl','akiec','mel', 'bcc',  'df', 'vasc', 'nv']\n",
        "\n",
        "for img_class in targetnames:\n",
        "    aug_dir = 'aug_dir'\n",
        "    os.mkdir(aug_dir)\n",
        "\n",
        "    img_dir = os.path.join(aug_dir, 'img_dir')\n",
        "    os.mkdir(img_dir)\n",
        "\n",
        "    img_list = os.listdir('HAM10000/train_dir/' + img_class)\n",
        "\n",
        "    for file_name in img_list:\n",
        "        source = os.path.join('HAM10000/train_dir/' + img_class, file_name)\n",
        "\n",
        "        target = os.path.join(img_dir, file_name)\n",
        "\n",
        "        shutil.copyfile(source, target)\n",
        "\n",
        "    source_path = aug_dir\n",
        "\n",
        "    save_path = 'HAM10000/train_dir/' + img_class\n",
        "    datagen = tf.keras.preprocessing.image.ImageDataGenerator(\n",
        "\n",
        "        rotation_range=180,\n",
        "        width_shift_range=0.1,\n",
        "        height_shift_range=0.1,\n",
        "        zoom_range=0.1,\n",
        "        horizontal_flip=True,\n",
        "        vertical_flip=True,\n",
        "        fill_mode='nearest'\n",
        "\n",
        "    )\n",
        "    batch_size = 30\n",
        "    aug_datagen = datagen.flow_from_directory(source_path,save_to_dir=save_path,save_format='jpg',target_size=(224, 224),batch_size=batch_size)\n",
        "    aug_images = 8000 \n",
        "\n",
        "    num_files = len(os.listdir(img_dir))\n",
        "    num_batches = int(np.ceil((aug_images - num_files) / batch_size))\n",
        "    for i in range(0, num_batches):\n",
        "        images, labels = next(aug_datagen)\n",
        "    shutil.rmtree('aug_dir')"
      ]
    },
    {
      "cell_type": "code",
      "execution_count": 22,
      "metadata": {
        "id": "CgsIH6rCrqtU"
      },
      "outputs": [],
      "source": [
        "train_path = 'HAM10000/train_dir'\n",
        "test_path = 'HAM10000/test_dir'\n",
        "batch_size=16"
      ]
    },
    {
      "cell_type": "code",
      "execution_count": 23,
      "metadata": {
        "id": "VbUxwSR7rqwV"
      },
      "outputs": [],
      "source": [
        "datagen=ImageDataGenerator(preprocessing_function=tf.keras.applications.inception_resnet_v2.preprocess_input)"
      ]
    },
    {
      "cell_type": "markdown",
      "source": [
        "Se redimensionan las imagenes a 224x224 para que todas tengan el mismo tamaño \n"
      ],
      "metadata": {
        "id": "VHMYr5VvJKcq"
      }
    },
    {
      "cell_type": "code",
      "execution_count": 24,
      "metadata": {
        "colab": {
          "base_uri": "https://localhost:8080/"
        },
        "id": "hA4ZK6KWrq2w",
        "outputId": "4f1bd920-f0ac-40d1-ef15-1f6a69931c8c"
      },
      "outputs": [
        {
          "output_type": "stream",
          "name": "stdout",
          "text": [
            "\n",
            "Train Batches: \n",
            "Found 53461 images belonging to 7 classes.\n",
            "\n",
            "Test Batches: \n",
            "Found 828 images belonging to 7 classes.\n"
          ]
        }
      ],
      "source": [
        "image_size = 224\n",
        "print(\"\\nTrain Batches: \")\n",
        "train_batches = datagen.flow_from_directory(directory=train_path,\n",
        "                                            target_size=(image_size,image_size),\n",
        "                                            batch_size=batch_size,\n",
        "                                            shuffle=True)\n",
        "print(\"\\nTest Batches: \")\n",
        "test_batches =datagen.flow_from_directory(test_path,\n",
        "                                           target_size=(image_size,image_size),\n",
        "                                           batch_size=batch_size,\n",
        "                                           shuffle=False)"
      ]
    },
    {
      "cell_type": "code",
      "execution_count": 25,
      "metadata": {
        "id": "_NKd1sEIsKBR"
      },
      "outputs": [],
      "source": [
        "MainInput=Input(shape=(224, 224, 3))"
      ]
    },
    {
      "cell_type": "markdown",
      "source": [
        "**Arquitectura ResNet34**\n",
        "\n",
        "A continuación se realiza la construcción de la arquitectura\n",
        "\n",
        "![recipes](https://raw.githubusercontent.com/taniae27/ImagenesMedicas/main/resnet.png)"
      ],
      "metadata": {
        "id": "DNMlSBQdaPcT"
      }
    },
    {
      "cell_type": "markdown",
      "source": [
        "<img src=\"https://raw.githubusercontent.com/gibranfp/CursoAprendizajeProfundo/b0727676e55073692332894e0bec830235888fa6/figs/resnetblock.svg\" width=\"350\"/>"
      ],
      "metadata": {
        "id": "WQQzAH16n0Hq"
      }
    },
    {
      "cell_type": "code",
      "execution_count": 26,
      "metadata": {
        "id": "dgDEgrllsKMk"
      },
      "outputs": [],
      "source": [
        "def convlayer1(input_value):\n",
        "  conv1=Conv2D(filters=64, kernel_size=(3,3), strides=(2,2),activation=\"relu\",padding=\"same\")(input_value)\n",
        "  conv1=BatchNormalization()(conv1)\n",
        "  pool1=MaxPooling2D(pool_size=(3, 3), strides=(2, 2), padding=\"same\")(conv1)\n",
        "  return pool1"
      ]
    },
    {
      "cell_type": "code",
      "execution_count": 27,
      "metadata": {
        "id": "lqd7N-EDsKP3"
      },
      "outputs": [],
      "source": [
        "def convlayer2(input_value):\n",
        "  conv2=Conv2D(filters=64, kernel_size=(3,3),activation=\"relu\",padding=\"same\")(input_value)\n",
        "  conv2=BatchNormalization()(conv2)\n",
        "  conv2=Conv2D(filters=64, kernel_size=(3,3),activation=\"relu\",padding=\"same\")(conv2)\n",
        "  conv2=BatchNormalization()(conv2)\n",
        "\n",
        "  resnet=add([input_value,conv2])\n",
        "  resnet=Activation(\"relu\")(resnet)\n",
        "  return resnet"
      ]
    },
    {
      "cell_type": "code",
      "execution_count": 28,
      "metadata": {
        "id": "RRDwcWeRsaEl"
      },
      "outputs": [],
      "source": [
        "def convlayer3(input_value):\n",
        "  conv3=Conv2D(filters=128, kernel_size=(3,3),activation=\"relu\",padding=\"same\")(input_value)\n",
        "  conv3=BatchNormalization()(conv3)\n",
        "  conv3=Conv2D(filters=128, kernel_size=(3,3),activation=\"relu\",padding=\"same\")(conv3)\n",
        "  conv3=BatchNormalization()(conv3)\n",
        "\n",
        "\n",
        "  skip=Conv2D(filters=128, kernel_size=(3,3),activation=\"relu\",padding=\"same\")(input_value)\n",
        "  skip=BatchNormalization()(skip)\n",
        "\n",
        "  resnet=add([skip,conv3])\n",
        "  resnet=Activation(\"relu\")(resnet)\n",
        "  return resnet"
      ]
    },
    {
      "cell_type": "code",
      "execution_count": 29,
      "metadata": {
        "id": "ptl6Ykn1saHl"
      },
      "outputs": [],
      "source": [
        "def convlayer4(input_value):\n",
        "  conv4=Conv2D(filters=256, kernel_size=(3,3),activation=\"relu\",padding=\"same\")(input_value)\n",
        "  conv4=BatchNormalization()(conv4)\n",
        "  conv4=Conv2D(filters=256, kernel_size=(3,3),activation=\"relu\",padding=\"same\")(conv4)\n",
        "  conv4=BatchNormalization()(conv4)\n",
        "\n",
        "\n",
        "  skip=Conv2D(filters=256, kernel_size=(3,3),activation=\"relu\",padding=\"same\")(input_value)\n",
        "  skip=BatchNormalization()(skip)\n",
        "\n",
        "  resnet=add([skip,conv4])\n",
        "  resnet=Activation(\"relu\")(resnet)\n",
        "  return resnet"
      ]
    },
    {
      "cell_type": "code",
      "execution_count": 30,
      "metadata": {
        "id": "P-vyGk0rsaMU"
      },
      "outputs": [],
      "source": [
        "def convlayer5(input_value):\n",
        "  conv5=Conv2D(filters=512, kernel_size=(3,3),activation=\"relu\",padding=\"same\")(input_value)\n",
        "  conv5=BatchNormalization()(conv5)\n",
        "  conv5=Conv2D(filters=512, kernel_size=(3,3),activation=\"relu\",padding=\"same\")(conv5)\n",
        "  conv5=BatchNormalization()(conv5)\n",
        "\n",
        "\n",
        "  skip=Conv2D(filters=512, kernel_size=(3,3),activation=\"relu\",padding=\"same\")(input_value)\n",
        "  skip=BatchNormalization()(skip)\n",
        "\n",
        "  resnet=add([skip,conv5])\n",
        "  resnet=Activation(\"relu\")(resnet)\n",
        "  return resnet"
      ]
    },
    {
      "cell_type": "code",
      "execution_count": 31,
      "metadata": {
        "id": "6jz1sSV0-qRE"
      },
      "outputs": [],
      "source": [
        "block1=convlayer1(MainInput)"
      ]
    },
    {
      "cell_type": "markdown",
      "source": [
        "Tamaño del primer bloque"
      ],
      "metadata": {
        "id": "rDSyRfvGmUg5"
      }
    },
    {
      "cell_type": "code",
      "execution_count": 32,
      "metadata": {
        "colab": {
          "base_uri": "https://localhost:8080/"
        },
        "id": "NxaxEstB5bnk",
        "outputId": "edffc1d2-0e11-4042-dbd0-e876f67a0d2c"
      },
      "outputs": [
        {
          "output_type": "execute_result",
          "data": {
            "text/plain": [
              "TensorShape([None, 56, 56, 64])"
            ]
          },
          "metadata": {},
          "execution_count": 32
        }
      ],
      "source": [
        "block1.shape"
      ]
    },
    {
      "cell_type": "code",
      "execution_count": 33,
      "metadata": {
        "id": "vU0t05xh-qaf"
      },
      "outputs": [],
      "source": [
        "block2=convlayer2(block1)\n",
        "for i in range(0,2):\n",
        "  block2=convlayer2(block2)"
      ]
    },
    {
      "cell_type": "markdown",
      "source": [
        "Tamaño del segundo bloque"
      ],
      "metadata": {
        "id": "oqrJj3IemXzM"
      }
    },
    {
      "cell_type": "code",
      "execution_count": 34,
      "metadata": {
        "colab": {
          "base_uri": "https://localhost:8080/"
        },
        "id": "6SX-Qqe25a7E",
        "outputId": "f2afe9fd-7c7e-4c4b-f877-ea0355bddf4f"
      },
      "outputs": [
        {
          "output_type": "execute_result",
          "data": {
            "text/plain": [
              "TensorShape([None, 56, 56, 64])"
            ]
          },
          "metadata": {},
          "execution_count": 34
        }
      ],
      "source": [
        "block2.shape"
      ]
    },
    {
      "cell_type": "code",
      "execution_count": 35,
      "metadata": {
        "colab": {
          "base_uri": "https://localhost:8080/"
        },
        "id": "WwwDdE4p6EA2",
        "outputId": "a0bcb472-f77b-4acf-8e45-bb389a70701d"
      },
      "outputs": [
        {
          "output_type": "execute_result",
          "data": {
            "text/plain": [
              "TensorShape([None, 28, 28, 64])"
            ]
          },
          "metadata": {},
          "execution_count": 35
        }
      ],
      "source": [
        "maxpool=MaxPooling2D(pool_size=(2,2), padding='same')(block2)\n",
        "maxpool.shape"
      ]
    },
    {
      "cell_type": "markdown",
      "source": [
        "Tamaño del tercer bloque"
      ],
      "metadata": {
        "id": "FMDH91tnmbpN"
      }
    },
    {
      "cell_type": "code",
      "execution_count": 36,
      "metadata": {
        "colab": {
          "base_uri": "https://localhost:8080/"
        },
        "id": "vfHvMTkX-qed",
        "outputId": "b3acd713-7dd1-4b96-c2ba-7b106bb29a34"
      },
      "outputs": [
        {
          "output_type": "execute_result",
          "data": {
            "text/plain": [
              "TensorShape([None, 28, 28, 128])"
            ]
          },
          "metadata": {},
          "execution_count": 36
        }
      ],
      "source": [
        "block3=convlayer3(maxpool)\n",
        "\n",
        "for i in range(0,3):\n",
        "  block3=convlayer3(block3)\n",
        "\n",
        "block3.shape"
      ]
    },
    {
      "cell_type": "markdown",
      "source": [
        "Tamaño del cuarto bloque "
      ],
      "metadata": {
        "id": "ogH1d4hNmd5n"
      }
    },
    {
      "cell_type": "code",
      "execution_count": 37,
      "metadata": {
        "colab": {
          "base_uri": "https://localhost:8080/"
        },
        "id": "YRgI1TAI-qiA",
        "outputId": "4c0fead3-e0d0-4316-fbdb-a2e412913838"
      },
      "outputs": [
        {
          "output_type": "execute_result",
          "data": {
            "text/plain": [
              "TensorShape([None, 28, 28, 256])"
            ]
          },
          "metadata": {},
          "execution_count": 37
        }
      ],
      "source": [
        "block4=convlayer4(block3)\n",
        "for i in range(0,5):\n",
        "  block4=convlayer4(block4)\n",
        "\n",
        "block4.shape"
      ]
    },
    {
      "cell_type": "markdown",
      "source": [
        "Se realiza un maxpooling"
      ],
      "metadata": {
        "id": "_GnDyvafmlVN"
      }
    },
    {
      "cell_type": "code",
      "execution_count": 38,
      "metadata": {
        "id": "Fq4RGwFg6QUN"
      },
      "outputs": [],
      "source": [
        "maxpool=MaxPooling2D(pool_size=(2,2), padding='same')(block4)"
      ]
    },
    {
      "cell_type": "code",
      "execution_count": 39,
      "metadata": {
        "colab": {
          "base_uri": "https://localhost:8080/"
        },
        "id": "EjeLU3wX6_-Q",
        "outputId": "e9a3b147-83cb-4258-8f4a-bb63771fe97f"
      },
      "outputs": [
        {
          "output_type": "execute_result",
          "data": {
            "text/plain": [
              "TensorShape([None, 14, 14, 256])"
            ]
          },
          "metadata": {},
          "execution_count": 39
        }
      ],
      "source": [
        "maxpool.shape"
      ]
    },
    {
      "cell_type": "markdown",
      "source": [
        "Con el maxpool generado se construye el blque 5 y el tamaño del 5to bloque es"
      ],
      "metadata": {
        "id": "xFvRsxYEmnYk"
      }
    },
    {
      "cell_type": "code",
      "execution_count": 40,
      "metadata": {
        "colab": {
          "base_uri": "https://localhost:8080/"
        },
        "id": "DJO9m1b7-qlN",
        "outputId": "c36bbe0e-bdd1-4d3a-f4cd-818cc60cc3a1"
      },
      "outputs": [
        {
          "output_type": "execute_result",
          "data": {
            "text/plain": [
              "TensorShape([None, 14, 14, 512])"
            ]
          },
          "metadata": {},
          "execution_count": 40
        }
      ],
      "source": [
        "\n",
        "block5=convlayer5(maxpool)\n",
        "for i in range(0,2):\n",
        "  block5=convlayer5(block5)\n",
        "\n",
        "block5.shape"
      ]
    },
    {
      "cell_type": "code",
      "execution_count": 41,
      "metadata": {
        "id": "LSVaTto8-qoj"
      },
      "outputs": [],
      "source": [
        "output = GlobalAveragePooling2D()(block5)\n",
        "output = Dense(7, activation='softmax')(output)\n",
        "model = Model(inputs=MainInput, outputs=output)"
      ]
    },
    {
      "cell_type": "code",
      "execution_count": 42,
      "metadata": {
        "colab": {
          "base_uri": "https://localhost:8080/"
        },
        "id": "d9yLdajp-qrt",
        "outputId": "cd7edada-0b74-45cb-c6d4-c730753ae756"
      },
      "outputs": [
        {
          "output_type": "stream",
          "name": "stdout",
          "text": [
            "Model: \"model\"\n",
            "__________________________________________________________________________________________________\n",
            " Layer (type)                   Output Shape         Param #     Connected to                     \n",
            "==================================================================================================\n",
            " input_1 (InputLayer)           [(None, 224, 224, 3  0           []                               \n",
            "                                )]                                                                \n",
            "                                                                                                  \n",
            " conv2d (Conv2D)                (None, 112, 112, 64  1792        ['input_1[0][0]']                \n",
            "                                )                                                                 \n",
            "                                                                                                  \n",
            " batch_normalization (BatchNorm  (None, 112, 112, 64  256        ['conv2d[0][0]']                 \n",
            " alization)                     )                                                                 \n",
            "                                                                                                  \n",
            " max_pooling2d (MaxPooling2D)   (None, 56, 56, 64)   0           ['batch_normalization[0][0]']    \n",
            "                                                                                                  \n",
            " conv2d_1 (Conv2D)              (None, 56, 56, 64)   36928       ['max_pooling2d[0][0]']          \n",
            "                                                                                                  \n",
            " batch_normalization_1 (BatchNo  (None, 56, 56, 64)  256         ['conv2d_1[0][0]']               \n",
            " rmalization)                                                                                     \n",
            "                                                                                                  \n",
            " conv2d_2 (Conv2D)              (None, 56, 56, 64)   36928       ['batch_normalization_1[0][0]']  \n",
            "                                                                                                  \n",
            " batch_normalization_2 (BatchNo  (None, 56, 56, 64)  256         ['conv2d_2[0][0]']               \n",
            " rmalization)                                                                                     \n",
            "                                                                                                  \n",
            " add (Add)                      (None, 56, 56, 64)   0           ['max_pooling2d[0][0]',          \n",
            "                                                                  'batch_normalization_2[0][0]']  \n",
            "                                                                                                  \n",
            " activation (Activation)        (None, 56, 56, 64)   0           ['add[0][0]']                    \n",
            "                                                                                                  \n",
            " conv2d_3 (Conv2D)              (None, 56, 56, 64)   36928       ['activation[0][0]']             \n",
            "                                                                                                  \n",
            " batch_normalization_3 (BatchNo  (None, 56, 56, 64)  256         ['conv2d_3[0][0]']               \n",
            " rmalization)                                                                                     \n",
            "                                                                                                  \n",
            " conv2d_4 (Conv2D)              (None, 56, 56, 64)   36928       ['batch_normalization_3[0][0]']  \n",
            "                                                                                                  \n",
            " batch_normalization_4 (BatchNo  (None, 56, 56, 64)  256         ['conv2d_4[0][0]']               \n",
            " rmalization)                                                                                     \n",
            "                                                                                                  \n",
            " add_1 (Add)                    (None, 56, 56, 64)   0           ['activation[0][0]',             \n",
            "                                                                  'batch_normalization_4[0][0]']  \n",
            "                                                                                                  \n",
            " activation_1 (Activation)      (None, 56, 56, 64)   0           ['add_1[0][0]']                  \n",
            "                                                                                                  \n",
            " conv2d_5 (Conv2D)              (None, 56, 56, 64)   36928       ['activation_1[0][0]']           \n",
            "                                                                                                  \n",
            " batch_normalization_5 (BatchNo  (None, 56, 56, 64)  256         ['conv2d_5[0][0]']               \n",
            " rmalization)                                                                                     \n",
            "                                                                                                  \n",
            " conv2d_6 (Conv2D)              (None, 56, 56, 64)   36928       ['batch_normalization_5[0][0]']  \n",
            "                                                                                                  \n",
            " batch_normalization_6 (BatchNo  (None, 56, 56, 64)  256         ['conv2d_6[0][0]']               \n",
            " rmalization)                                                                                     \n",
            "                                                                                                  \n",
            " add_2 (Add)                    (None, 56, 56, 64)   0           ['activation_1[0][0]',           \n",
            "                                                                  'batch_normalization_6[0][0]']  \n",
            "                                                                                                  \n",
            " activation_2 (Activation)      (None, 56, 56, 64)   0           ['add_2[0][0]']                  \n",
            "                                                                                                  \n",
            " max_pooling2d_1 (MaxPooling2D)  (None, 28, 28, 64)  0           ['activation_2[0][0]']           \n",
            "                                                                                                  \n",
            " conv2d_7 (Conv2D)              (None, 28, 28, 128)  73856       ['max_pooling2d_1[0][0]']        \n",
            "                                                                                                  \n",
            " batch_normalization_7 (BatchNo  (None, 28, 28, 128)  512        ['conv2d_7[0][0]']               \n",
            " rmalization)                                                                                     \n",
            "                                                                                                  \n",
            " conv2d_9 (Conv2D)              (None, 28, 28, 128)  73856       ['max_pooling2d_1[0][0]']        \n",
            "                                                                                                  \n",
            " conv2d_8 (Conv2D)              (None, 28, 28, 128)  147584      ['batch_normalization_7[0][0]']  \n",
            "                                                                                                  \n",
            " batch_normalization_9 (BatchNo  (None, 28, 28, 128)  512        ['conv2d_9[0][0]']               \n",
            " rmalization)                                                                                     \n",
            "                                                                                                  \n",
            " batch_normalization_8 (BatchNo  (None, 28, 28, 128)  512        ['conv2d_8[0][0]']               \n",
            " rmalization)                                                                                     \n",
            "                                                                                                  \n",
            " add_3 (Add)                    (None, 28, 28, 128)  0           ['batch_normalization_9[0][0]',  \n",
            "                                                                  'batch_normalization_8[0][0]']  \n",
            "                                                                                                  \n",
            " activation_3 (Activation)      (None, 28, 28, 128)  0           ['add_3[0][0]']                  \n",
            "                                                                                                  \n",
            " conv2d_10 (Conv2D)             (None, 28, 28, 128)  147584      ['activation_3[0][0]']           \n",
            "                                                                                                  \n",
            " batch_normalization_10 (BatchN  (None, 28, 28, 128)  512        ['conv2d_10[0][0]']              \n",
            " ormalization)                                                                                    \n",
            "                                                                                                  \n",
            " conv2d_12 (Conv2D)             (None, 28, 28, 128)  147584      ['activation_3[0][0]']           \n",
            "                                                                                                  \n",
            " conv2d_11 (Conv2D)             (None, 28, 28, 128)  147584      ['batch_normalization_10[0][0]'] \n",
            "                                                                                                  \n",
            " batch_normalization_12 (BatchN  (None, 28, 28, 128)  512        ['conv2d_12[0][0]']              \n",
            " ormalization)                                                                                    \n",
            "                                                                                                  \n",
            " batch_normalization_11 (BatchN  (None, 28, 28, 128)  512        ['conv2d_11[0][0]']              \n",
            " ormalization)                                                                                    \n",
            "                                                                                                  \n",
            " add_4 (Add)                    (None, 28, 28, 128)  0           ['batch_normalization_12[0][0]', \n",
            "                                                                  'batch_normalization_11[0][0]'] \n",
            "                                                                                                  \n",
            " activation_4 (Activation)      (None, 28, 28, 128)  0           ['add_4[0][0]']                  \n",
            "                                                                                                  \n",
            " conv2d_13 (Conv2D)             (None, 28, 28, 128)  147584      ['activation_4[0][0]']           \n",
            "                                                                                                  \n",
            " batch_normalization_13 (BatchN  (None, 28, 28, 128)  512        ['conv2d_13[0][0]']              \n",
            " ormalization)                                                                                    \n",
            "                                                                                                  \n",
            " conv2d_15 (Conv2D)             (None, 28, 28, 128)  147584      ['activation_4[0][0]']           \n",
            "                                                                                                  \n",
            " conv2d_14 (Conv2D)             (None, 28, 28, 128)  147584      ['batch_normalization_13[0][0]'] \n",
            "                                                                                                  \n",
            " batch_normalization_15 (BatchN  (None, 28, 28, 128)  512        ['conv2d_15[0][0]']              \n",
            " ormalization)                                                                                    \n",
            "                                                                                                  \n",
            " batch_normalization_14 (BatchN  (None, 28, 28, 128)  512        ['conv2d_14[0][0]']              \n",
            " ormalization)                                                                                    \n",
            "                                                                                                  \n",
            " add_5 (Add)                    (None, 28, 28, 128)  0           ['batch_normalization_15[0][0]', \n",
            "                                                                  'batch_normalization_14[0][0]'] \n",
            "                                                                                                  \n",
            " activation_5 (Activation)      (None, 28, 28, 128)  0           ['add_5[0][0]']                  \n",
            "                                                                                                  \n",
            " conv2d_16 (Conv2D)             (None, 28, 28, 128)  147584      ['activation_5[0][0]']           \n",
            "                                                                                                  \n",
            " batch_normalization_16 (BatchN  (None, 28, 28, 128)  512        ['conv2d_16[0][0]']              \n",
            " ormalization)                                                                                    \n",
            "                                                                                                  \n",
            " conv2d_18 (Conv2D)             (None, 28, 28, 128)  147584      ['activation_5[0][0]']           \n",
            "                                                                                                  \n",
            " conv2d_17 (Conv2D)             (None, 28, 28, 128)  147584      ['batch_normalization_16[0][0]'] \n",
            "                                                                                                  \n",
            " batch_normalization_18 (BatchN  (None, 28, 28, 128)  512        ['conv2d_18[0][0]']              \n",
            " ormalization)                                                                                    \n",
            "                                                                                                  \n",
            " batch_normalization_17 (BatchN  (None, 28, 28, 128)  512        ['conv2d_17[0][0]']              \n",
            " ormalization)                                                                                    \n",
            "                                                                                                  \n",
            " add_6 (Add)                    (None, 28, 28, 128)  0           ['batch_normalization_18[0][0]', \n",
            "                                                                  'batch_normalization_17[0][0]'] \n",
            "                                                                                                  \n",
            " activation_6 (Activation)      (None, 28, 28, 128)  0           ['add_6[0][0]']                  \n",
            "                                                                                                  \n",
            " conv2d_19 (Conv2D)             (None, 28, 28, 256)  295168      ['activation_6[0][0]']           \n",
            "                                                                                                  \n",
            " batch_normalization_19 (BatchN  (None, 28, 28, 256)  1024       ['conv2d_19[0][0]']              \n",
            " ormalization)                                                                                    \n",
            "                                                                                                  \n",
            " conv2d_21 (Conv2D)             (None, 28, 28, 256)  295168      ['activation_6[0][0]']           \n",
            "                                                                                                  \n",
            " conv2d_20 (Conv2D)             (None, 28, 28, 256)  590080      ['batch_normalization_19[0][0]'] \n",
            "                                                                                                  \n",
            " batch_normalization_21 (BatchN  (None, 28, 28, 256)  1024       ['conv2d_21[0][0]']              \n",
            " ormalization)                                                                                    \n",
            "                                                                                                  \n",
            " batch_normalization_20 (BatchN  (None, 28, 28, 256)  1024       ['conv2d_20[0][0]']              \n",
            " ormalization)                                                                                    \n",
            "                                                                                                  \n",
            " add_7 (Add)                    (None, 28, 28, 256)  0           ['batch_normalization_21[0][0]', \n",
            "                                                                  'batch_normalization_20[0][0]'] \n",
            "                                                                                                  \n",
            " activation_7 (Activation)      (None, 28, 28, 256)  0           ['add_7[0][0]']                  \n",
            "                                                                                                  \n",
            " conv2d_22 (Conv2D)             (None, 28, 28, 256)  590080      ['activation_7[0][0]']           \n",
            "                                                                                                  \n",
            " batch_normalization_22 (BatchN  (None, 28, 28, 256)  1024       ['conv2d_22[0][0]']              \n",
            " ormalization)                                                                                    \n",
            "                                                                                                  \n",
            " conv2d_24 (Conv2D)             (None, 28, 28, 256)  590080      ['activation_7[0][0]']           \n",
            "                                                                                                  \n",
            " conv2d_23 (Conv2D)             (None, 28, 28, 256)  590080      ['batch_normalization_22[0][0]'] \n",
            "                                                                                                  \n",
            " batch_normalization_24 (BatchN  (None, 28, 28, 256)  1024       ['conv2d_24[0][0]']              \n",
            " ormalization)                                                                                    \n",
            "                                                                                                  \n",
            " batch_normalization_23 (BatchN  (None, 28, 28, 256)  1024       ['conv2d_23[0][0]']              \n",
            " ormalization)                                                                                    \n",
            "                                                                                                  \n",
            " add_8 (Add)                    (None, 28, 28, 256)  0           ['batch_normalization_24[0][0]', \n",
            "                                                                  'batch_normalization_23[0][0]'] \n",
            "                                                                                                  \n",
            " activation_8 (Activation)      (None, 28, 28, 256)  0           ['add_8[0][0]']                  \n",
            "                                                                                                  \n",
            " conv2d_25 (Conv2D)             (None, 28, 28, 256)  590080      ['activation_8[0][0]']           \n",
            "                                                                                                  \n",
            " batch_normalization_25 (BatchN  (None, 28, 28, 256)  1024       ['conv2d_25[0][0]']              \n",
            " ormalization)                                                                                    \n",
            "                                                                                                  \n",
            " conv2d_27 (Conv2D)             (None, 28, 28, 256)  590080      ['activation_8[0][0]']           \n",
            "                                                                                                  \n",
            " conv2d_26 (Conv2D)             (None, 28, 28, 256)  590080      ['batch_normalization_25[0][0]'] \n",
            "                                                                                                  \n",
            " batch_normalization_27 (BatchN  (None, 28, 28, 256)  1024       ['conv2d_27[0][0]']              \n",
            " ormalization)                                                                                    \n",
            "                                                                                                  \n",
            " batch_normalization_26 (BatchN  (None, 28, 28, 256)  1024       ['conv2d_26[0][0]']              \n",
            " ormalization)                                                                                    \n",
            "                                                                                                  \n",
            " add_9 (Add)                    (None, 28, 28, 256)  0           ['batch_normalization_27[0][0]', \n",
            "                                                                  'batch_normalization_26[0][0]'] \n",
            "                                                                                                  \n",
            " activation_9 (Activation)      (None, 28, 28, 256)  0           ['add_9[0][0]']                  \n",
            "                                                                                                  \n",
            " conv2d_28 (Conv2D)             (None, 28, 28, 256)  590080      ['activation_9[0][0]']           \n",
            "                                                                                                  \n",
            " batch_normalization_28 (BatchN  (None, 28, 28, 256)  1024       ['conv2d_28[0][0]']              \n",
            " ormalization)                                                                                    \n",
            "                                                                                                  \n",
            " conv2d_30 (Conv2D)             (None, 28, 28, 256)  590080      ['activation_9[0][0]']           \n",
            "                                                                                                  \n",
            " conv2d_29 (Conv2D)             (None, 28, 28, 256)  590080      ['batch_normalization_28[0][0]'] \n",
            "                                                                                                  \n",
            " batch_normalization_30 (BatchN  (None, 28, 28, 256)  1024       ['conv2d_30[0][0]']              \n",
            " ormalization)                                                                                    \n",
            "                                                                                                  \n",
            " batch_normalization_29 (BatchN  (None, 28, 28, 256)  1024       ['conv2d_29[0][0]']              \n",
            " ormalization)                                                                                    \n",
            "                                                                                                  \n",
            " add_10 (Add)                   (None, 28, 28, 256)  0           ['batch_normalization_30[0][0]', \n",
            "                                                                  'batch_normalization_29[0][0]'] \n",
            "                                                                                                  \n",
            " activation_10 (Activation)     (None, 28, 28, 256)  0           ['add_10[0][0]']                 \n",
            "                                                                                                  \n",
            " conv2d_31 (Conv2D)             (None, 28, 28, 256)  590080      ['activation_10[0][0]']          \n",
            "                                                                                                  \n",
            " batch_normalization_31 (BatchN  (None, 28, 28, 256)  1024       ['conv2d_31[0][0]']              \n",
            " ormalization)                                                                                    \n",
            "                                                                                                  \n",
            " conv2d_33 (Conv2D)             (None, 28, 28, 256)  590080      ['activation_10[0][0]']          \n",
            "                                                                                                  \n",
            " conv2d_32 (Conv2D)             (None, 28, 28, 256)  590080      ['batch_normalization_31[0][0]'] \n",
            "                                                                                                  \n",
            " batch_normalization_33 (BatchN  (None, 28, 28, 256)  1024       ['conv2d_33[0][0]']              \n",
            " ormalization)                                                                                    \n",
            "                                                                                                  \n",
            " batch_normalization_32 (BatchN  (None, 28, 28, 256)  1024       ['conv2d_32[0][0]']              \n",
            " ormalization)                                                                                    \n",
            "                                                                                                  \n",
            " add_11 (Add)                   (None, 28, 28, 256)  0           ['batch_normalization_33[0][0]', \n",
            "                                                                  'batch_normalization_32[0][0]'] \n",
            "                                                                                                  \n",
            " activation_11 (Activation)     (None, 28, 28, 256)  0           ['add_11[0][0]']                 \n",
            "                                                                                                  \n",
            " conv2d_34 (Conv2D)             (None, 28, 28, 256)  590080      ['activation_11[0][0]']          \n",
            "                                                                                                  \n",
            " batch_normalization_34 (BatchN  (None, 28, 28, 256)  1024       ['conv2d_34[0][0]']              \n",
            " ormalization)                                                                                    \n",
            "                                                                                                  \n",
            " conv2d_36 (Conv2D)             (None, 28, 28, 256)  590080      ['activation_11[0][0]']          \n",
            "                                                                                                  \n",
            " conv2d_35 (Conv2D)             (None, 28, 28, 256)  590080      ['batch_normalization_34[0][0]'] \n",
            "                                                                                                  \n",
            " batch_normalization_36 (BatchN  (None, 28, 28, 256)  1024       ['conv2d_36[0][0]']              \n",
            " ormalization)                                                                                    \n",
            "                                                                                                  \n",
            " batch_normalization_35 (BatchN  (None, 28, 28, 256)  1024       ['conv2d_35[0][0]']              \n",
            " ormalization)                                                                                    \n",
            "                                                                                                  \n",
            " add_12 (Add)                   (None, 28, 28, 256)  0           ['batch_normalization_36[0][0]', \n",
            "                                                                  'batch_normalization_35[0][0]'] \n",
            "                                                                                                  \n",
            " activation_12 (Activation)     (None, 28, 28, 256)  0           ['add_12[0][0]']                 \n",
            "                                                                                                  \n",
            " max_pooling2d_2 (MaxPooling2D)  (None, 14, 14, 256)  0          ['activation_12[0][0]']          \n",
            "                                                                                                  \n",
            " conv2d_37 (Conv2D)             (None, 14, 14, 512)  1180160     ['max_pooling2d_2[0][0]']        \n",
            "                                                                                                  \n",
            " batch_normalization_37 (BatchN  (None, 14, 14, 512)  2048       ['conv2d_37[0][0]']              \n",
            " ormalization)                                                                                    \n",
            "                                                                                                  \n",
            " conv2d_39 (Conv2D)             (None, 14, 14, 512)  1180160     ['max_pooling2d_2[0][0]']        \n",
            "                                                                                                  \n",
            " conv2d_38 (Conv2D)             (None, 14, 14, 512)  2359808     ['batch_normalization_37[0][0]'] \n",
            "                                                                                                  \n",
            " batch_normalization_39 (BatchN  (None, 14, 14, 512)  2048       ['conv2d_39[0][0]']              \n",
            " ormalization)                                                                                    \n",
            "                                                                                                  \n",
            " batch_normalization_38 (BatchN  (None, 14, 14, 512)  2048       ['conv2d_38[0][0]']              \n",
            " ormalization)                                                                                    \n",
            "                                                                                                  \n",
            " add_13 (Add)                   (None, 14, 14, 512)  0           ['batch_normalization_39[0][0]', \n",
            "                                                                  'batch_normalization_38[0][0]'] \n",
            "                                                                                                  \n",
            " activation_13 (Activation)     (None, 14, 14, 512)  0           ['add_13[0][0]']                 \n",
            "                                                                                                  \n",
            " conv2d_40 (Conv2D)             (None, 14, 14, 512)  2359808     ['activation_13[0][0]']          \n",
            "                                                                                                  \n",
            " batch_normalization_40 (BatchN  (None, 14, 14, 512)  2048       ['conv2d_40[0][0]']              \n",
            " ormalization)                                                                                    \n",
            "                                                                                                  \n",
            " conv2d_42 (Conv2D)             (None, 14, 14, 512)  2359808     ['activation_13[0][0]']          \n",
            "                                                                                                  \n",
            " conv2d_41 (Conv2D)             (None, 14, 14, 512)  2359808     ['batch_normalization_40[0][0]'] \n",
            "                                                                                                  \n",
            " batch_normalization_42 (BatchN  (None, 14, 14, 512)  2048       ['conv2d_42[0][0]']              \n",
            " ormalization)                                                                                    \n",
            "                                                                                                  \n",
            " batch_normalization_41 (BatchN  (None, 14, 14, 512)  2048       ['conv2d_41[0][0]']              \n",
            " ormalization)                                                                                    \n",
            "                                                                                                  \n",
            " add_14 (Add)                   (None, 14, 14, 512)  0           ['batch_normalization_42[0][0]', \n",
            "                                                                  'batch_normalization_41[0][0]'] \n",
            "                                                                                                  \n",
            " activation_14 (Activation)     (None, 14, 14, 512)  0           ['add_14[0][0]']                 \n",
            "                                                                                                  \n",
            " conv2d_43 (Conv2D)             (None, 14, 14, 512)  2359808     ['activation_14[0][0]']          \n",
            "                                                                                                  \n",
            " batch_normalization_43 (BatchN  (None, 14, 14, 512)  2048       ['conv2d_43[0][0]']              \n",
            " ormalization)                                                                                    \n",
            "                                                                                                  \n",
            " conv2d_45 (Conv2D)             (None, 14, 14, 512)  2359808     ['activation_14[0][0]']          \n",
            "                                                                                                  \n",
            " conv2d_44 (Conv2D)             (None, 14, 14, 512)  2359808     ['batch_normalization_43[0][0]'] \n",
            "                                                                                                  \n",
            " batch_normalization_45 (BatchN  (None, 14, 14, 512)  2048       ['conv2d_45[0][0]']              \n",
            " ormalization)                                                                                    \n",
            "                                                                                                  \n",
            " batch_normalization_44 (BatchN  (None, 14, 14, 512)  2048       ['conv2d_44[0][0]']              \n",
            " ormalization)                                                                                    \n",
            "                                                                                                  \n",
            " add_15 (Add)                   (None, 14, 14, 512)  0           ['batch_normalization_45[0][0]', \n",
            "                                                                  'batch_normalization_44[0][0]'] \n",
            "                                                                                                  \n",
            " activation_15 (Activation)     (None, 14, 14, 512)  0           ['add_15[0][0]']                 \n",
            "                                                                                                  \n",
            " global_average_pooling2d (Glob  (None, 512)         0           ['activation_15[0][0]']          \n",
            " alAveragePooling2D)                                                                              \n",
            "                                                                                                  \n",
            " dense (Dense)                  (None, 7)            3591        ['global_average_pooling2d[0][0]'\n",
            "                                                                 ]                                \n",
            "                                                                                                  \n",
            "==================================================================================================\n",
            "Total params: 30,805,895\n",
            "Trainable params: 30,783,495\n",
            "Non-trainable params: 22,400\n",
            "__________________________________________________________________________________________________\n"
          ]
        }
      ],
      "source": [
        "model.summary()"
      ]
    },
    {
      "cell_type": "code",
      "source": [],
      "metadata": {
        "id": "j-5MakSUavhZ"
      },
      "execution_count": 42,
      "outputs": []
    },
    {
      "cell_type": "markdown",
      "source": [
        "**Optimizador**\n",
        "Para entrenar las redes, se utiliza el optimizador Adam[11] de 0.01 tasa de aprendizaje y 0.1 épsilon, se considero el optimizador adam dado que mejora la reducción del error.\n",
        "\n",
        "ADAM, es un método comunmente más usado. La actualización del momento se convierte en un promedio móvil exponencial sin querer cambiar la taza de aprendizaje cuando tratamos con \\betaβ . Justo como en RMSprop, aquí tomamos el promedio móvil exponencial del gradiente cuadrado.\n",
        "\n",
        "\\begin{aligned} m_{t+1} &= {\\beta}m_t + (1 - \\beta) \\nabla f_i(w_t) \\\\ v_{t+1} &= {\\alpha}v_t + (1 - \\alpha) \\nabla f_i(w_t)^2 \\\\ w_{t+1} &= w_t - \\gamma \\frac {m_{t}}{ \\sqrt{v_{t+1}} + \\epsilon} \\end{aligned}\n",
        "\n",
        "\n",
        "La función de pérdida utilizada es la de entropia cruzada dado que se tienen 7 clases diferentes de cancer en la piel para la optimización de la red neuronal."
      ],
      "metadata": {
        "id": "buFm0-wpav7H"
      }
    },
    {
      "cell_type": "code",
      "execution_count": 44,
      "metadata": {
        "id": "1fcSMRat-qux"
      },
      "outputs": [],
      "source": [
        "opt1=tf.keras.optimizers.Adam(learning_rate=0.01,epsilon=0.1)\n",
        "model.compile(optimizer=opt1,\n",
        "             loss='categorical_crossentropy',\n",
        "             metrics=['accuracy'])"
      ]
    },
    {
      "cell_type": "code",
      "execution_count": 45,
      "metadata": {
        "id": "G-jEfA-5-qx9"
      },
      "outputs": [],
      "source": [
        "class_weights = {   \n",
        "                    0: 1.0,  # akiec\n",
        "                    1: 1.0,  # bcc\n",
        "                    2: 1.0,  # bkl\n",
        "                    3: 1.0,  # df\n",
        "                    4: 5.0,  # mel\n",
        "                    5: 1.0,  # nv\n",
        "                    6: 1.0,  # vasc\n",
        "                }\n",
        "\n",
        "\n",
        "checkpoint=  ModelCheckpoint(filepath = 'ResNet34.hdf5',monitor='val_accuracy',save_best_only=True,save_weights_only=True)"
      ]
    },
    {
      "cell_type": "markdown",
      "source": [
        "En el modelo si se consideran las 100 epocas se puede llegar a un accuracy de 96%, sin embargo dado que la capacidad de tiempo de computo esta limitada se opto por 20 epocas llegando apenas al 0.60"
      ],
      "metadata": {
        "id": "AzYq_gdqgXf0"
      }
    },
    {
      "cell_type": "code",
      "execution_count": null,
      "metadata": {
        "colab": {
          "base_uri": "https://localhost:8080/"
        },
        "id": "LTQuSwqO-q1B",
        "outputId": "ec4ddc4b-d63c-489e-d7d5-92593a3ab79d"
      },
      "outputs": [
        {
          "output_type": "stream",
          "name": "stdout",
          "text": [
            "Epoch 1/20\n"
          ]
        }
      ],
      "source": [
        "Earlystop = EarlyStopping(monitor='val_loss', mode='min',patience=65, min_delta=0.001)\n",
        "history = model.fit(train_batches,\n",
        "                    steps_per_epoch=(len(train_df)/10),\n",
        "                    epochs=20,\n",
        "                    verbose=2,\n",
        "                    validation_data=test_batches,validation_steps=len(test_df)/batch_size,callbacks=[checkpoint,Earlystop],class_weight=class_weights)"
      ]
    },
    {
      "cell_type": "code",
      "execution_count": null,
      "metadata": {
        "id": "JcVa9eOt_DiW"
      },
      "outputs": [],
      "source": [
        "from tensorflow.keras import models\n",
        "model.load_weights(\"ResNet34.hdf5\")"
      ]
    },
    {
      "cell_type": "code",
      "execution_count": null,
      "metadata": {
        "id": "UJCSZZ4r_Y5k"
      },
      "outputs": [],
      "source": [
        "predictions = model.predict(test_batches, steps=len(test_df)/batch_size, verbose=0)"
      ]
    },
    {
      "cell_type": "code",
      "execution_count": null,
      "metadata": {
        "id": "FtVAadQm_ZFi"
      },
      "outputs": [],
      "source": [
        "#Predicciones del conjunto de datos de prueba \n",
        "y_pred = np.argmax(predictions, axis=1)\n",
        "targetnames = ['akiec', 'bcc', 'bkl', 'df', 'mel', 'nv', 'vasc']\n",
        "y_true = test_batches.classes\n",
        "y_prob=predictions\n",
        "from tensorflow.keras.utils import to_categorical\n",
        "y_test = to_categorical(y_true)\n",
        "\n",
        "report = classification_report(y_true, y_pred, target_names=targetnames)\n",
        "\n",
        "print(\"\\nReporte de clasificación por categoria:\")\n",
        "print(report)"
      ]
    },
    {
      "cell_type": "markdown",
      "source": [
        "Calcula las métricas para cada etiqueta y encuentre su promedio ponderado por soporte. Esto altera 'macro' para tener en cuenta el desequilibrio de etiquetas; puede dar como resultado una puntuación F que no se encuentra entre la precisión y la recuperación."
      ],
      "metadata": {
        "id": "Ns4a5-K6jH0P"
      }
    },
    {
      "cell_type": "code",
      "execution_count": null,
      "metadata": {
        "id": "_kY1t3Wo_ZNj"
      },
      "outputs": [],
      "source": [
        "print(\"Precision: \"+ str(precision_score(y_true, y_pred, average='weighted')))\n",
        "print(\"Recall: \"+ str(recall_score(y_true, y_pred, average='weighted')))\n",
        "print(\"Accuracy: \" + str(accuracy_score(y_true, y_pred)))\n",
        "print(\"weighted Roc score: \" + str(roc_auc_score(y_test,y_prob,multi_class='ovr',average='weighted')))"
      ]
    },
    {
      "cell_type": "markdown",
      "source": [
        "Calcula las métricas para cada etiqueta y encuentra su media no ponderada. Esto no tiene en cuenta el desequilibrio de etiquetas."
      ],
      "metadata": {
        "id": "0fVKkl-MjSl7"
      }
    },
    {
      "cell_type": "code",
      "execution_count": null,
      "metadata": {
        "id": "bDflPB8X_ZRj"
      },
      "outputs": [],
      "source": [
        "print(\"Precision: \"+ str(precision_score(y_true, y_pred, average='macro')))\n",
        "print(\"Recall: \"+ str(recall_score(y_true, y_pred, average='macro')))\n",
        "print(\"Accuracy: \" + str(accuracy_score(y_true, y_pred)))\n",
        "print(\"Macro Roc score: \" + str(roc_auc_score(y_test,y_prob,multi_class='ovr',average='macro')))"
      ]
    },
    {
      "cell_type": "markdown",
      "source": [
        "Calcula las  métricas globalmente contando el total de verdaderos positivos, falsos negativos y falsos positivos."
      ],
      "metadata": {
        "id": "HTR83Du-jaK5"
      }
    },
    {
      "cell_type": "code",
      "execution_count": null,
      "metadata": {
        "id": "KKDO03ZX_ZUS"
      },
      "outputs": [],
      "source": [
        "print(\"Precision: \"+ str(precision_score(y_true, y_pred, average='micro')))\n",
        "print(\"Recall: \"+ str(recall_score(y_true, y_pred, average='micro')))\n",
        "print(\"Accuracy: \" + str(accuracy_score(y_true, y_pred)))\n",
        "tpr={}\n",
        "fpr={}\n",
        "roc_auc={}\n",
        "fpr[\"micro\"], tpr[\"micro\"], _ = roc_curve(y_test.ravel(), y_prob.ravel())\n",
        "roc_auc[\"micro\"] = auc(fpr[\"micro\"], tpr[\"micro\"])\n",
        "print(\"Micro Roc score: \" + str(roc_auc[\"micro\"]))"
      ]
    },
    {
      "cell_type": "markdown",
      "source": [
        "**Auxiliar para curva ROC en cada clase**"
      ],
      "metadata": {
        "id": "cpAO-pO9j6Vx"
      }
    },
    {
      "cell_type": "code",
      "execution_count": null,
      "metadata": {
        "id": "q9Qnqag7_t25"
      },
      "outputs": [],
      "source": [
        "fpr = {}\n",
        "tpr = {}\n",
        "roc_auc = {}\n",
        "for i in range(7):\n",
        "    r = roc_auc_score(y_test[:, i], y_prob[:, i])\n",
        "    print(\"The ROC AUC score of \"+targetnames[i]+\" is: \"+str(r))"
      ]
    },
    {
      "cell_type": "code",
      "execution_count": null,
      "metadata": {
        "id": "GB_b9faW_xFj"
      },
      "outputs": [],
      "source": [
        "\n",
        "fpr = {}\n",
        "tpr = {}\n",
        "roc_auc = dict()\n",
        "for i in range(7):\n",
        "    fpr[i], tpr[i], _ = roc_curve(y_test[:, i], y_prob[:, i], drop_intermediate=False)\n",
        "    roc_auc[i] = auc(fpr[i], tpr[i])"
      ]
    },
    {
      "cell_type": "code",
      "execution_count": null,
      "metadata": {
        "id": "2k23yEj3_xLg"
      },
      "outputs": [],
      "source": [
        "\n",
        "fpr = {}\n",
        "tpr = {}\n",
        "roc_auc = dict()\n",
        "for i in range(7):\n",
        "    fpr[i], tpr[i], _ = roc_curve(y_test[:, i], y_prob[:, i], drop_intermediate=False)\n",
        "    roc_auc[i] = auc(fpr[i], tpr[i])"
      ]
    },
    {
      "cell_type": "code",
      "source": [
        "plt.plot(fpr[0], tpr[0],'v-',label='akiec: ROC curve of (area = %0.2f)' % roc_auc[0])\n",
        "plt.plot([0, 1], [0, 1], 'k--')\n",
        "plt.xlim([-0.1, 1.1])\n",
        "plt.ylim([-0.1, 1.1])\n",
        "plt.xlabel('Tasa de falsos positivos')\n",
        "plt.ylabel('Tasa de verdaderos positivos')\n",
        "plt.title('Caracteristica de funcionamiento del receptor %s'%targetnames[i])\n",
        "plt.legend(loc=\"lower right\")\n",
        "plt.show()"
      ],
      "metadata": {
        "id": "0jgVBw21jvEW"
      },
      "execution_count": null,
      "outputs": []
    },
    {
      "cell_type": "code",
      "execution_count": null,
      "metadata": {
        "id": "18BLXxIf_xP_"
      },
      "outputs": [],
      "source": [
        "plt.plot(fpr[0], tpr[0],'v-',label='akiec: ROC curve of (area = %0.2f)' % roc_auc[0])\n",
        "plt.plot(fpr[1], tpr[1],'c',label='bcc: ROC curve of (area = %0.2f)' % roc_auc[1])\n",
        "plt.plot(fpr[2], tpr[2],'b',label='bkl: ROC curve of (area = %0.2f)' % roc_auc[2])\n",
        "plt.plot(fpr[3], tpr[3],'g',label='df: ROC curve of (area = %0.2f)' % roc_auc[3])\n",
        "plt.plot(fpr[4], tpr[4],'y',label='mel: ROC curve of (area = %0.2f)' % roc_auc[4])\n",
        "plt.plot(fpr[5], tpr[5],'o-',label='nv: ROC curve of (area = %0.2f)' % roc_auc[5])\n",
        "plt.plot(fpr[6], tpr[6],'r',label='vasc: ROC curve of (area = %0.2f)' % roc_auc[6])\n",
        "\n",
        "plt.plot([0, 1], [0, 1], 'k--')\n",
        "plt.xlim([-0.1, 1.1])\n",
        "plt.ylim([-0.1, 1.1])\n",
        "plt.xlabel('False Positive Rate')\n",
        "plt.ylabel('True Positive Rate')\n",
        "plt.title('Receiver operating characteristic of %s'%targetnames[i])\n",
        "plt.legend(loc=\"lower right\")\n",
        "plt.show()"
      ]
    },
    {
      "cell_type": "markdown",
      "source": [
        "**Bibliografía**\n",
        "\n",
        "\"Técnicas de Optimización II · Aprendizaje Profundo\". Alfredo Canziani. https://atcold.github.io/pytorch-Deep-Learning/es/week05/05-2/ (accedido el 14 de diciembre de 2022).\n",
        "\n",
        "T. Philipp. \"The HAM10000 dataset, a large collection of multi-source dermatoscopic images of common pigmented skin lesions\". Harvard Dataverse. https://dataverse.harvard.edu/dataset.xhtml?persistentId=doi:10.7910/DVN/DBW86T (accedido el 14 de diciembre de 2022).\n",
        "\n",
        "\n"
      ],
      "metadata": {
        "id": "QdZAIjfjnRww"
      }
    }
  ],
  "metadata": {
    "accelerator": "GPU",
    "colab": {
      "provenance": [],
      "include_colab_link": true
    },
    "gpuClass": "standard",
    "kernelspec": {
      "display_name": "Python 3",
      "name": "python3"
    },
    "language_info": {
      "name": "python"
    }
  },
  "nbformat": 4,
  "nbformat_minor": 0
}